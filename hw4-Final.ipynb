{
 "cells": [
  {
   "cell_type": "markdown",
   "metadata": {},
   "source": [
    "## Homework 4\n",
    "*For any questions or concerns please email your instructor at `smanna@scu.edu`*\n",
    "### Due - 06/01/2018 - 11:59p - 100 points\n",
    "\n",
    "**Name:** `<Alma Niu>`\n",
    "\n",
    "**Email** `<aniu@scu.edu>`\n",
    "\n",
    "**Objectives:** \n",
    "* Make you conversant with word embedding using word2vec\n",
    "* Familiarity with `gensim`\n",
    "\n",
    "**Problem Statement:** \n",
    "You are given some amazon reviews on `Musical Instruments`. Your task is to clean your data, separate out sentences, and then use them to train your `word2vec` model. After your model is trained, then you have to compute the following:\n",
    "* print top 10 words based on term frequency (make sure they are not stop-words)\n",
    "* print `most similar` top 5 words for each of the above words\n",
    "* randomly pick 10 words, and print their `similarity` in the format: `similarity between a and b is ____`. If $sim(a,b) = sim(b,a)$, then you should print only one.\n",
    "\n",
    "**Submission Instructions:** \n",
    "* Please download `hw4.ipynb` and `reviews_Musical_Instruments_5.json` and insert cells in the `hw4.ipynb` to complete your homework and submit the same file to Camino under `Homework` $\\rightarrow$ `hw4`.\n",
    "* Please make sure you type your `Name` and `Email` on top of your submission file in the placeholder above. \n",
    "* Feel free to use your in-class examples `week7-nltk.ipynb` and `week8-word2Vec.ipynb` to work on this homework.\n",
    "\n",
    "**Dataset:** The original [data](http://jmcauley.ucsd.edu/data/amazon/) contains reviews from amazon on `Musical Instruments`. \n",
    "\n",
    "**Honor Code:** You are expected to complete the homework on your own. Solutions might exist elsewhere, but you are not allowed to copy them. "
   ]
  },
  {
   "cell_type": "code",
   "execution_count": 1,
   "metadata": {},
   "outputs": [],
   "source": [
    "# import necessary libraries\n",
    "# TODO\n",
    "import pandas as pd\n",
    "import numpy as np\n",
    "import gensim\n",
    "from gensim.models import Word2Vec\n",
    "from sklearn.decomposition import PCA\n",
    "from matplotlib import pyplot\n",
    "import json \n",
    "import csv"
   ]
  },
  {
   "cell_type": "code",
   "execution_count": 2,
   "metadata": {},
   "outputs": [
    {
     "name": "stdout",
     "output_type": "stream",
     "text": [
      "Load Data\n"
     ]
    },
    {
     "data": {
      "text/html": [
       "<div>\n",
       "<style scoped>\n",
       "    .dataframe tbody tr th:only-of-type {\n",
       "        vertical-align: middle;\n",
       "    }\n",
       "\n",
       "    .dataframe tbody tr th {\n",
       "        vertical-align: top;\n",
       "    }\n",
       "\n",
       "    .dataframe thead th {\n",
       "        text-align: right;\n",
       "    }\n",
       "</style>\n",
       "<table border=\"1\" class=\"dataframe\">\n",
       "  <thead>\n",
       "    <tr style=\"text-align: right;\">\n",
       "      <th></th>\n",
       "      <th>asin</th>\n",
       "      <th>helpful</th>\n",
       "      <th>overall</th>\n",
       "      <th>reviewText</th>\n",
       "      <th>reviewTime</th>\n",
       "      <th>reviewerID</th>\n",
       "      <th>reviewerName</th>\n",
       "      <th>summary</th>\n",
       "      <th>unixReviewTime</th>\n",
       "    </tr>\n",
       "  </thead>\n",
       "  <tbody>\n",
       "    <tr>\n",
       "      <th>0</th>\n",
       "      <td>1384719342</td>\n",
       "      <td>[0, 0]</td>\n",
       "      <td>5.0</td>\n",
       "      <td>Not much to write about here, but it does exac...</td>\n",
       "      <td>02 28, 2014</td>\n",
       "      <td>A2IBPI20UZIR0U</td>\n",
       "      <td>cassandra tu \"Yeah, well, that's just like, u...</td>\n",
       "      <td>good</td>\n",
       "      <td>1393545600</td>\n",
       "    </tr>\n",
       "    <tr>\n",
       "      <th>1</th>\n",
       "      <td>1384719342</td>\n",
       "      <td>[13, 14]</td>\n",
       "      <td>5.0</td>\n",
       "      <td>The product does exactly as it should and is q...</td>\n",
       "      <td>03 16, 2013</td>\n",
       "      <td>A14VAT5EAX3D9S</td>\n",
       "      <td>Jake</td>\n",
       "      <td>Jake</td>\n",
       "      <td>1363392000</td>\n",
       "    </tr>\n",
       "    <tr>\n",
       "      <th>2</th>\n",
       "      <td>1384719342</td>\n",
       "      <td>[1, 1]</td>\n",
       "      <td>5.0</td>\n",
       "      <td>The primary job of this device is to block the...</td>\n",
       "      <td>08 28, 2013</td>\n",
       "      <td>A195EZSQDW3E21</td>\n",
       "      <td>Rick Bennette \"Rick Bennette\"</td>\n",
       "      <td>It Does The Job Well</td>\n",
       "      <td>1377648000</td>\n",
       "    </tr>\n",
       "    <tr>\n",
       "      <th>3</th>\n",
       "      <td>1384719342</td>\n",
       "      <td>[0, 0]</td>\n",
       "      <td>5.0</td>\n",
       "      <td>Nice windscreen protects my MXL mic and preven...</td>\n",
       "      <td>02 14, 2014</td>\n",
       "      <td>A2C00NNG1ZQQG2</td>\n",
       "      <td>RustyBill \"Sunday Rocker\"</td>\n",
       "      <td>GOOD WINDSCREEN FOR THE MONEY</td>\n",
       "      <td>1392336000</td>\n",
       "    </tr>\n",
       "    <tr>\n",
       "      <th>4</th>\n",
       "      <td>1384719342</td>\n",
       "      <td>[0, 0]</td>\n",
       "      <td>5.0</td>\n",
       "      <td>This pop filter is great. It looks and perform...</td>\n",
       "      <td>02 21, 2014</td>\n",
       "      <td>A94QU4C90B1AX</td>\n",
       "      <td>SEAN MASLANKA</td>\n",
       "      <td>No more pops when I record my vocals.</td>\n",
       "      <td>1392940800</td>\n",
       "    </tr>\n",
       "  </tbody>\n",
       "</table>\n",
       "</div>"
      ],
      "text/plain": [
       "         asin   helpful  overall  \\\n",
       "0  1384719342    [0, 0]      5.0   \n",
       "1  1384719342  [13, 14]      5.0   \n",
       "2  1384719342    [1, 1]      5.0   \n",
       "3  1384719342    [0, 0]      5.0   \n",
       "4  1384719342    [0, 0]      5.0   \n",
       "\n",
       "                                          reviewText   reviewTime  \\\n",
       "0  Not much to write about here, but it does exac...  02 28, 2014   \n",
       "1  The product does exactly as it should and is q...  03 16, 2013   \n",
       "2  The primary job of this device is to block the...  08 28, 2013   \n",
       "3  Nice windscreen protects my MXL mic and preven...  02 14, 2014   \n",
       "4  This pop filter is great. It looks and perform...  02 21, 2014   \n",
       "\n",
       "       reviewerID                                      reviewerName  \\\n",
       "0  A2IBPI20UZIR0U  cassandra tu \"Yeah, well, that's just like, u...   \n",
       "1  A14VAT5EAX3D9S                                              Jake   \n",
       "2  A195EZSQDW3E21                     Rick Bennette \"Rick Bennette\"   \n",
       "3  A2C00NNG1ZQQG2                         RustyBill \"Sunday Rocker\"   \n",
       "4   A94QU4C90B1AX                                     SEAN MASLANKA   \n",
       "\n",
       "                                 summary  unixReviewTime  \n",
       "0                                   good      1393545600  \n",
       "1                                   Jake      1363392000  \n",
       "2                   It Does The Job Well      1377648000  \n",
       "3          GOOD WINDSCREEN FOR THE MONEY      1392336000  \n",
       "4  No more pops when I record my vocals.      1392940800  "
      ]
     },
     "execution_count": 2,
     "metadata": {},
     "output_type": "execute_result"
    }
   ],
   "source": [
    "\n",
    "# load the data into pandas dataframe\n",
    "# make sure the data is in json format\n",
    "# TODO\n",
    "url='reviews_Musical_Instruments_5.json'\n",
    "#df=pd.read_json(url,orient='columns')\n",
    "\n",
    "with open(url) as json_file:\n",
    "    data=json_file.readlines()\n",
    "    data=list(map(json.loads,data))\n",
    "df=pd.DataFrame(data)\n",
    "\n",
    "print('Load Data')\n",
    "df.head()\n"
   ]
  },
  {
   "cell_type": "code",
   "execution_count": 3,
   "metadata": {},
   "outputs": [
    {
     "data": {
      "text/plain": [
       "<bound method DataFrame.info of              asin   helpful  overall  \\\n",
       "0      1384719342    [0, 0]      5.0   \n",
       "1      1384719342  [13, 14]      5.0   \n",
       "2      1384719342    [1, 1]      5.0   \n",
       "3      1384719342    [0, 0]      5.0   \n",
       "4      1384719342    [0, 0]      5.0   \n",
       "5      B00004Y2UT    [0, 0]      5.0   \n",
       "6      B00004Y2UT    [0, 0]      5.0   \n",
       "7      B00004Y2UT    [0, 0]      3.0   \n",
       "8      B00004Y2UT    [0, 0]      5.0   \n",
       "9      B00004Y2UT    [0, 0]      5.0   \n",
       "10     B00004Y2UT    [6, 6]      5.0   \n",
       "11     B00005ML71    [0, 0]      4.0   \n",
       "12     B00005ML71    [0, 0]      3.0   \n",
       "13     B00005ML71    [0, 0]      5.0   \n",
       "14     B00005ML71    [0, 0]      5.0   \n",
       "15     B00005ML71    [0, 0]      2.0   \n",
       "16     B000068NSX    [0, 0]      4.0   \n",
       "17     B000068NSX    [0, 0]      5.0   \n",
       "18     B000068NSX    [3, 3]      5.0   \n",
       "19     B000068NSX    [0, 0]      5.0   \n",
       "20     B000068NSX    [0, 0]      4.0   \n",
       "21     B000068NSX    [0, 0]      5.0   \n",
       "22     B000068NSX    [0, 0]      4.0   \n",
       "23     B000068NTU    [0, 0]      5.0   \n",
       "24     B000068NTU    [0, 0]      5.0   \n",
       "25     B000068NTU    [0, 0]      4.0   \n",
       "26     B000068NTU    [0, 0]      5.0   \n",
       "27     B000068NTU    [0, 0]      5.0   \n",
       "28     B000068NVI    [1, 1]      4.0   \n",
       "29     B000068NVI    [0, 0]      5.0   \n",
       "...           ...       ...      ...   \n",
       "10231  B00IZCSW3M    [1, 1]      5.0   \n",
       "10232  B00IZCSW3M    [0, 0]      5.0   \n",
       "10233  B00IZCSW3M    [7, 7]      5.0   \n",
       "10234  B00IZCSW3M    [1, 1]      5.0   \n",
       "10235  B00IZCSW3M    [1, 2]      5.0   \n",
       "10236  B00IZCSW3M    [0, 0]      5.0   \n",
       "10237  B00IZCSW3M   [8, 10]      3.0   \n",
       "10238  B00IZCSW3M    [0, 0]      5.0   \n",
       "10239  B00IZCSW3M    [2, 2]      5.0   \n",
       "10240  B00J4TBMVO    [0, 0]      5.0   \n",
       "10241  B00J4TBMVO    [0, 0]      5.0   \n",
       "10242  B00J4TBMVO    [0, 0]      5.0   \n",
       "10243  B00J4TBMVO    [0, 0]      5.0   \n",
       "10244  B00J4TBMVO    [0, 0]      5.0   \n",
       "10245  B00J4TBMVO    [0, 0]      4.0   \n",
       "10246  B00J4TBMVO    [0, 0]      5.0   \n",
       "10247  B00J4TBMVO    [2, 2]      2.0   \n",
       "10248  B00JBIVXGC    [0, 0]      5.0   \n",
       "10249  B00JBIVXGC    [0, 0]      5.0   \n",
       "10250  B00JBIVXGC    [0, 0]      5.0   \n",
       "10251  B00JBIVXGC    [0, 0]      5.0   \n",
       "10252  B00JBIVXGC    [0, 0]      5.0   \n",
       "10253  B00JBIVXGC    [0, 0]      4.0   \n",
       "10254  B00JBIVXGC    [0, 0]      5.0   \n",
       "10255  B00JBIVXGC    [0, 0]      3.0   \n",
       "10256  B00JBIVXGC    [0, 0]      5.0   \n",
       "10257  B00JBIVXGC    [0, 0]      5.0   \n",
       "10258  B00JBIVXGC    [0, 0]      4.0   \n",
       "10259  B00JBIVXGC    [0, 0]      4.0   \n",
       "10260  B00JBIVXGC    [0, 0]      4.0   \n",
       "\n",
       "                                              reviewText   reviewTime  \\\n",
       "0      Not much to write about here, but it does exac...  02 28, 2014   \n",
       "1      The product does exactly as it should and is q...  03 16, 2013   \n",
       "2      The primary job of this device is to block the...  08 28, 2013   \n",
       "3      Nice windscreen protects my MXL mic and preven...  02 14, 2014   \n",
       "4      This pop filter is great. It looks and perform...  02 21, 2014   \n",
       "5      So good that I bought another one.  Love the h...  12 21, 2012   \n",
       "6      I have used monster cables for years, and with...  01 19, 2014   \n",
       "7      I now use this cable to run from the output of...  11 16, 2012   \n",
       "8      Perfect for my Epiphone Sheraton II.  Monster ...   07 6, 2008   \n",
       "9      Monster makes the best cables and a lifetime w...   01 8, 2014   \n",
       "10     Monster makes a wide array of cables, includin...  04 19, 2012   \n",
       "11     I got it to have it if I needed it. I have fou...  04 22, 2014   \n",
       "12     If you are not use to using a large sustaining...  11 17, 2013   \n",
       "13     I love it, I used this for my Yamaha ypt-230 a...  06 16, 2013   \n",
       "14     I bought this to use in my home studio to cont...  12 31, 2012   \n",
       "15     I bought this to use with my keyboard. I wasn'...  08 17, 2013   \n",
       "16     This Fender cable is the perfect length for me...  08 13, 2013   \n",
       "17     wanted it just on looks alone...It is a nice l...   07 9, 2013   \n",
       "18     I've been using these cables for more than 4 m...  03 18, 2013   \n",
       "19     Fender cords look great and work just as well....   08 7, 2013   \n",
       "20     This is a cool looking cheap cable which works...  03 16, 2012   \n",
       "21     The Fender 18 Feet California Clear Instrument...  01 29, 2014   \n",
       "22     Very good cable. Well made and it looks great ...   12 8, 2012   \n",
       "23     Got this cable to run a rockband keyboard cont...   07 5, 2012   \n",
       "24     When I was searching for MIDI cables for my AR...  10 31, 2013   \n",
       "25     Cant go wrong. Great quality on a budget price...   07 3, 2013   \n",
       "26     The ends of the midi cable look and feel like ...  01 25, 2012   \n",
       "27     Just trying to find a midi to midi was a task,...  10 15, 2013   \n",
       "28     The Hosa XLR cables are affordable and very he...  07 11, 2012   \n",
       "29     I bought these to go from my board to the amp....  02 19, 2014   \n",
       "...                                                  ...          ...   \n",
       "10231  For a long time, I never thought much about gu...   05 1, 2014   \n",
       "10232  My father is a full-time gigging musician prim...  06 14, 2014   \n",
       "10233  D'Addario has always been one of the best stri...  05 22, 2014   \n",
       "10234  I usually use Gibson Vintage Nickle Strings on...  05 11, 2014   \n",
       "10235  Excellent tone, and I'm a bit surprised by tha...  05 31, 2014   \n",
       "10236  I've been stringing my guitars with D'Addario ...  05 25, 2014   \n",
       "10237  Don't get me wrong, the improvement over the o...  04 28, 2014   \n",
       "10238  These have a nice bright sound and are easy on...  06 18, 2014   \n",
       "10239  D'Addario's NYXL1046 Nickel Plated Electric Gu...  06 17, 2014   \n",
       "10240  Just put these on my Martin DCX1E and they sou...  07 11, 2014   \n",
       "10241  I ordered this for my husband, the musician. H...  06 25, 2014   \n",
       "10242  I had used Elixer strings for several years on...  07 10, 2014   \n",
       "10243  I can't speak on the claim for a longer string...  07 12, 2014   \n",
       "10244  Great product with nice feel and tone. I'm onl...  06 26, 2014   \n",
       "10245  I have reviewed these strings before, and fran...   07 1, 2014   \n",
       "10246  I had the opportunity to try a set of Elixir N...  07 19, 2014   \n",
       "10247  I was looking forward to trying these, as I've...  06 24, 2014   \n",
       "10248  I put these strings on my Guild acoustic elect...  07 11, 2014   \n",
       "10249  I ordered this for my husband, the musician.  ...  06 22, 2014   \n",
       "10250  I had used Elixer strings for several years on...  07 10, 2014   \n",
       "10251  True to phosphor bronze these strings have a m...   07 1, 2014   \n",
       "10252  I've used Elixirs for about five years now. Th...  06 30, 2014   \n",
       "10253  I'm a D'Addario man myself, but hey free is fr...  07 21, 2014   \n",
       "10254  I really like these strings.  While they are n...   07 4, 2014   \n",
       "10255  I have lots of friends who play these strings....  06 25, 2014   \n",
       "10256            Great, just as expected.  Thank to all.  07 20, 2014   \n",
       "10257  I've been thinking about trying the Nanoweb st...   07 2, 2014   \n",
       "10258  I have tried coated strings in the past ( incl...  07 22, 2014   \n",
       "10259  Well, MADE by Elixir and DEVELOPED with Taylor...   07 1, 2014   \n",
       "10260  These strings are really quite good, but I wou...  07 16, 2014   \n",
       "\n",
       "           reviewerID                                      reviewerName  \\\n",
       "0      A2IBPI20UZIR0U  cassandra tu \"Yeah, well, that's just like, u...   \n",
       "1      A14VAT5EAX3D9S                                              Jake   \n",
       "2      A195EZSQDW3E21                     Rick Bennette \"Rick Bennette\"   \n",
       "3      A2C00NNG1ZQQG2                         RustyBill \"Sunday Rocker\"   \n",
       "4       A94QU4C90B1AX                                     SEAN MASLANKA   \n",
       "5      A2A039TZMZHH9Y                               Bill Lewey \"blewey\"   \n",
       "6      A1UPZM995ZAH90                                             Brian   \n",
       "7       AJNFQI3YR6XJ5                                 Fender Guy \"Rick\"   \n",
       "8      A3M1PLEYNDEYO8                                   G. Thomas \"Tom\"   \n",
       "9       AMNTZU1YQN1TH                                       Kurt Robair   \n",
       "10     A2NYK9KWFMJV4Y                       Mike Tarrani \"Jazz Drummer\"   \n",
       "11     A35QFQI0M46LWO                                     Christopher C   \n",
       "12     A2NIT6BKW11XJQ                                               Jai   \n",
       "13     A1C0O09LOLVI39                                           Michael   \n",
       "14     A17SLR18TUMULM                                       Straydogger   \n",
       "15     A2PD27UKAD3Q00              Wilhelmina Zeitgeist \"coolartsybabe\"   \n",
       "16      AKSFZ4G1AXYFC                                      C.E. \"Frank\"   \n",
       "17      A67OJZLHBBUQ9                  Charles F. Marks \"charlie marks\"   \n",
       "18     A2EZWZ8MBEDOLN                                            Charlo   \n",
       "19     A1CL807EOUPVP1                                           GunHawk   \n",
       "20     A1GMWTGXW682GB                                          MetalFan   \n",
       "21     A2G12DY50U700V                                       Ricky Shows   \n",
       "22      A3E0CF25A7LD2                                            WBowie   \n",
       "23     A2W3CLAYZLDPTV                         Amazon Customer \"=Chris=\"   \n",
       "24     A398X9POBHK69N                                   Ann Vande Zande   \n",
       "25      AXWB93VKVML6K                                    Michael Hassey   \n",
       "26     A2FZ4Z0UFA1OR8                                               Pat   \n",
       "27      AXP9CF1UTFRSU                                              tada   \n",
       "28     A2CCGGDGZ694CT                                          b carney   \n",
       "29     A27DR1VO079F1V                                         Dan Edman   \n",
       "...               ...                                               ...   \n",
       "10231  A31RULW0KNYJ5H                                                LA   \n",
       "10232  A3KZEGBTPH6MMF                                  Lucy Cat \"Mandy\"   \n",
       "10233   AWCJ12KBO5VII                                  Michael L. Knapp   \n",
       "10234  A29B4PAIOL7HYG                          N. Caruso \"gibsonjunkie\"   \n",
       "10235  A27L5L6I7OSV5B                                      Otto Correct   \n",
       "10236   AOMEH9W6LHC4S                                          Personne   \n",
       "10237  A3VDSGNIS92OVZ                               P. Hamm \"p-squared\"   \n",
       "10238  A27H0T39U3FZB5                        P. MSakamoto \"boy clothes\"   \n",
       "10239  A2PD27UKAD3Q00              Wilhelmina Zeitgeist \"coolartsybabe\"   \n",
       "10240  A146H4KN4LFR60                                         angelfood   \n",
       "10241  A3A7Y3TSPPZU9T                                       coffeebrain   \n",
       "10242  A30J7WQV0ZNRXG                         D. Reinstein \"marindavid\"   \n",
       "10243  A3M1PLEYNDEYO8                                   G. Thomas \"Tom\"   \n",
       "10244  A3KX8SVSUCSHKU                                              john   \n",
       "10245  A1TSKKBNV38E8Y                       K. Harriger \"K.R. Harriger\"   \n",
       "10246  A29B4PAIOL7HYG                          N. Caruso \"gibsonjunkie\"   \n",
       "10247  A3VDSGNIS92OVZ                               P. Hamm \"p-squared\"   \n",
       "10248  A146H4KN4LFR60                                         angelfood   \n",
       "10249  A3A7Y3TSPPZU9T                                       coffeebrain   \n",
       "10250  A30J7WQV0ZNRXG                         D. Reinstein \"marindavid\"   \n",
       "10251  A3M1PLEYNDEYO8                                   G. Thomas \"Tom\"   \n",
       "10252  A1SD1C8XK3Z3V1                   guitfiddleblue \"guitfiddleblue\"   \n",
       "10253  A2VRAT69JDAD3W                        Jason Whitt \"Whittmeister\"   \n",
       "10254  A306NASGVUDFKF                        Jeffrey E \"jeffinaustintx\"   \n",
       "10255  A1TSKKBNV38E8Y                       K. Harriger \"K.R. Harriger\"   \n",
       "10256  A14B2YH83ZXMPP                                   Lonnie M. Adams   \n",
       "10257   A1RPTVW5VEOSI                                Michael J. Edelman   \n",
       "10258   AWCJ12KBO5VII                                  Michael L. Knapp   \n",
       "10259  A2Z7S8B5U4PAKJ                           Rick Langdon \"Scriptor\"   \n",
       "10260  A2WA8TDCTGUADI                                   TheTerrorBeyond   \n",
       "\n",
       "                                                 summary  unixReviewTime  \n",
       "0                                                   good      1393545600  \n",
       "1                                                   Jake      1363392000  \n",
       "2                                   It Does The Job Well      1377648000  \n",
       "3                          GOOD WINDSCREEN FOR THE MONEY      1392336000  \n",
       "4                  No more pops when I record my vocals.      1392940800  \n",
       "5                                         The Best Cable      1356048000  \n",
       "6            Monster Standard 100 - 21' Instrument Cable      1390089600  \n",
       "7                     Didn't fit my 1996 Fender Strat...      1353024000  \n",
       "8                                            Great cable      1215302400  \n",
       "9                   Best Instrument Cables On The Market      1389139200  \n",
       "10     One of the best instrument cables within the b...      1334793600  \n",
       "11                   It works great but I hardly use it.      1398124800  \n",
       "12                            HAS TO GET USE TO THE SIZE      1384646400  \n",
       "13                                               awesome      1371340800  \n",
       "14                                             It works!      1356912000  \n",
       "15          Definitely Not For The Seasoned Piano Player      1376697600  \n",
       "16                              Durable Instrument Cable      1376352000  \n",
       "17                           fender 18 ft. Cali clear...      1373328000  \n",
       "18     So far so good.  Will revisit at the 6 month m...      1363564800  \n",
       "19                Add California to the name and I jump!      1375833600  \n",
       "20                   Cheap and cool looking, good length      1331856000  \n",
       "21     Fender 18 Feet California Clear Instrument Cab...      1390953600  \n",
       "22                                          Guitar Cable      1354924800  \n",
       "23                                        Quality cable!      1341446400  \n",
       "24     I Got Great Pricing, But Still a Really Good P...      1383177600  \n",
       "25                                            Its a Hosa      1372809600  \n",
       "26                                    Quality and Secure      1327449600  \n",
       "27                                          Midi to Midi      1381795200  \n",
       "28                 Very Heavy Cables At Affordable Price      1341964800  \n",
       "29                                           Still going      1392768000  \n",
       "...                                                  ...             ...  \n",
       "10231                         Cadillac of Guitar Strings      1398902400  \n",
       "10232  Great for pickin' on the Tele or almost anythi...      1402704000  \n",
       "10233                               All they claim to be      1400716800  \n",
       "10234                                       Nice strings      1399766400  \n",
       "10235                   Great strings! They really sing!      1401494400  \n",
       "10236  A little skinny for me, but the quality is und...      1400976000  \n",
       "10237        Noticeable Improvement... but at what cost?      1398643200  \n",
       "10238                 Nice bright sound with easy action      1403049600  \n",
       "10239                                Stay In Tune Better      1402963200  \n",
       "10240                A Good Guitar Deserves Good Strings      1405036800  \n",
       "10241                                      Great Strings      1403654400  \n",
       "10242                   These Do Wonders For My Seagull!      1404950400  \n",
       "10243                          Great tone and less noise      1405123200  \n",
       "10244              Excellent strings - used on my Taylor      1403740800  \n",
       "10245  These sound great on some guitars, not so grea...      1404172800  \n",
       "10246                Great sounding and playing strings!      1405728000  \n",
       "10247          I'm a BIG Fan of Elixir Strings... But...      1403568000  \n",
       "10248                    Your Guitar Wants These Strings      1405036800  \n",
       "10249                                      Great Strings      1403395200  \n",
       "10250                            Great On A Gibson, Too!      1404950400  \n",
       "10251                       they sound great, feel great      1404172800  \n",
       "10252                            Elixirs just sound good      1404086400  \n",
       "10253    I'm a D'Addario man myself, but hey free is ...      1405900800  \n",
       "10254                        I really like these strings      1404432000  \n",
       "10255  Hmmm.... I like them, but with a lot of reserv...      1403654400  \n",
       "10256                                         Five Stars      1405814400  \n",
       "10257  Long life, and for some players, a good econom...      1404259200  \n",
       "10258                                   Good for coated.      1405987200  \n",
       "10259                                        Taylor Made      1404172800  \n",
       "10260  These strings are really quite good, but I wou...      1405468800  \n",
       "\n",
       "[10261 rows x 9 columns]>"
      ]
     },
     "execution_count": 3,
     "metadata": {},
     "output_type": "execute_result"
    }
   ],
   "source": [
    "# View information about the data\n",
    "df.info\n",
    "\n",
    "# TODO"
   ]
  },
  {
   "cell_type": "code",
   "execution_count": 4,
   "metadata": {
    "scrolled": true
   },
   "outputs": [
    {
     "name": "stdout",
     "output_type": "stream",
     "text": [
      "4986118\n"
     ]
    }
   ],
   "source": [
    "# Convert all the review text into a long string and print its length\n",
    "longString=\"\"\n",
    "for i in range(len(df.reviewText)):\n",
    "    longString+=df.reviewText[i]\n",
    "print(len(longString)) "
   ]
  },
  {
   "cell_type": "code",
   "execution_count": 5,
   "metadata": {},
   "outputs": [
    {
     "name": "stdout",
     "output_type": "stream",
     "text": [
      "Not much to write about here, but it does exactly what it's supposed to.\n"
     ]
    }
   ],
   "source": [
    "# Load the tokenizer\n",
    "# tokenize into sentences\n",
    "# TOD0\n",
    "import nltk\n",
    "\n",
    "sentences=[i for i in nltk.sent_tokenize(longString)] #suppose to break down to array sentence\n",
    "print (sentences[0]) #test"
   ]
  },
  {
   "cell_type": "code",
   "execution_count": 6,
   "metadata": {},
   "outputs": [
    {
     "name": "stdout",
     "output_type": "stream",
     "text": [
      "[u'Not', u'much', u'write', u'exactly', u'supposed', u'filters', u'pop', u'sounds', u'recordings', u'much', u'crisp']\n"
     ]
    }
   ],
   "source": [
    "# clean and split sentences into words\n",
    "# write a function to do this\n",
    "# TODO\n",
    "\n",
    "\"\"\"Split into words and remove stopwords\"\"\"\n",
    "from nltk.corpus import stopwords\n",
    "def clean_split(x):\n",
    "    x=nltk.word_tokenize(x) #array of words\n",
    "    stop_words=set(stopwords.words(\"english\"))\n",
    "    filtered_x=[w for w in x if not w in stop_words and w!=',' and w!='.' and w!=\"n't\" and w!='(' and w!=')'\n",
    "               and w!='!' and w!='It' and w!=\"'s\" and w!='I' and w!='The']\n",
    "    return filtered_x\n",
    "\"\"\"\n",
    "x=clean_split(longString) #array of words\n",
    "from nltk.corpus import stopwords\n",
    "stop_words=set(stopwords.words(\"english\"))\n",
    "filtered_x=[w for w in x if not w in stop_words]\n",
    "\"\"\"\n",
    "words=clean_split(longString)\n",
    "print(words[0:11]) #print first 11 words as test to see output array"
   ]
  },
  {
   "cell_type": "code",
   "execution_count": 97,
   "metadata": {},
   "outputs": [
    {
     "name": "stdout",
     "output_type": "stream",
     "text": [
      "42\n",
      "<FreqDist with 40648 samples and 506175 outcomes>\n"
     ]
    }
   ],
   "source": [
    "# might want to compute the word and their frequency and store somewhere\n",
    "# you will need it later in the code\n",
    "# TODO\n",
    "\n",
    "freq=nltk.FreqDist(words) # vocab=unique words, tokens=words\n",
    "\n",
    "print(freq['write']) #example that shows frequency of the word 'write' appearing\n",
    "\"\"\"\n",
    "freq.plot(20,cumulative=False)\n",
    "for key, val in freq.items():\n",
    "    #print(str(key) + ':' + str(val))\n",
    "\"\"\"\n",
    "print(freq)\n"
   ]
  },
  {
   "cell_type": "code",
   "execution_count": 98,
   "metadata": {},
   "outputs": [
    {
     "data": {
      "text/plain": [
       "list"
      ]
     },
     "execution_count": 98,
     "metadata": {},
     "output_type": "execute_result"
    }
   ],
   "source": [
    "# clean each raw sentences and build the list of sentences\n",
    "# ideally you are calling the funtion on each sentence you tokenized earlier\n",
    "# TODO\n",
    "\"\"\"Already done above\"\"\"\n",
    "\n",
    "setup=[]\n",
    "count=0\n",
    "for i in sentences:\n",
    "    setup.append(clean_split(i))\n",
    "#print(setup[0:5]) #print first 5 sentences with each word\n",
    "type(setup)"
   ]
  },
  {
   "cell_type": "code",
   "execution_count": 99,
   "metadata": {},
   "outputs": [
    {
     "name": "stdout",
     "output_type": "stream",
     "text": [
      "[u'Not', u'much', u'write', u'exactly', u'supposed']\n",
      "[u'filters', u'pop', u'sounds']\n"
     ]
    }
   ],
   "source": [
    "# check a sentence by printing it\n",
    "# TODO\n",
    "print(setup[0])\n",
    "print(setup[1])"
   ]
  },
  {
   "cell_type": "code",
   "execution_count": 100,
   "metadata": {},
   "outputs": [
    {
     "data": {
      "text/plain": [
       "506175"
      ]
     },
     "execution_count": 100,
     "metadata": {},
     "output_type": "execute_result"
    }
   ],
   "source": [
    "# count number of tokens in the dataset\n",
    "# TODO\n",
    "from collections import Counter\n",
    "c=Counter(words)\n",
    "len(words) #number of tokens, after removing stopwords"
   ]
  },
  {
   "cell_type": "code",
   "execution_count": 10,
   "metadata": {},
   "outputs": [],
   "source": [
    "# do the multiprocessing (optional)\n",
    "# to speed up, you might want to look for this option in the documentation\n",
    "# my code does not have it\n",
    "\"\"\"Optional\"\"\""
   ]
  },
  {
   "cell_type": "code",
   "execution_count": 101,
   "metadata": {},
   "outputs": [],
   "source": [
    "# Build you word2vec model\n",
    "# TODO\n",
    "\n",
    "model = Word2Vec(setup, min_count=1)"
   ]
  },
  {
   "cell_type": "code",
   "execution_count": 102,
   "metadata": {},
   "outputs": [
    {
     "name": "stdout",
     "output_type": "stream",
     "text": [
      "Word2Vec(vocab=40636, size=100, alpha=0.025)\n"
     ]
    }
   ],
   "source": [
    "# summarize the loaded model -- simply print your model\n",
    "# TODO\n",
    "print(model)\n"
   ]
  },
  {
   "cell_type": "code",
   "execution_count": 103,
   "metadata": {},
   "outputs": [
    {
     "data": {
      "text/plain": [
       "996"
      ]
     },
     "execution_count": 103,
     "metadata": {},
     "output_type": "execute_result"
    }
   ],
   "source": [
    "# print corpus_count\n",
    "# TODO\n",
    "from collections import Counter\n",
    "c=Counter(words)\n",
    "c['sounds'] # show count of words"
   ]
  },
  {
   "cell_type": "code",
   "execution_count": 93,
   "metadata": {},
   "outputs": [
    {
     "name": "stderr",
     "output_type": "stream",
     "text": [
      "/usr/local/lib/python2.7/dist-packages/ipykernel_launcher.py:3: DeprecationWarning: Call to deprecated `__getitem__` (Method will be removed in 4.0.0, use self.wv.__getitem__() instead).\n",
      "  This is separate from the ipykernel package so we can avoid doing imports until\n"
     ]
    },
    {
     "name": "stdout",
     "output_type": "stream",
     "text": [
      "[[-3.02206837e-02 -2.46135797e-02 -1.23986844e-02 ...  1.22684194e-02\n",
      "  -1.64362565e-02 -2.65085567e-02]\n",
      " [-7.03531206e-02 -8.48237425e-02 -5.31118959e-02 ...  4.86954004e-02\n",
      "  -2.22093239e-02 -6.59034774e-02]\n",
      " [-2.48812005e-01 -2.13216916e-01 -3.31481814e-01 ...  5.81422299e-02\n",
      "  -2.57652700e-01 -2.96832025e-01]\n",
      " ...\n",
      " [-6.54190197e-04 -1.02244476e-02  4.63236030e-03 ...  4.59633535e-03\n",
      "   3.02415015e-03 -1.21388475e-04]\n",
      " [-1.18139293e-02 -9.27053741e-04 -1.78084299e-02 ...  3.50240269e-03\n",
      "  -1.55229121e-02 -1.73608866e-02]\n",
      " [-1.82788372e-02 -6.33648597e-03 -1.08070029e-02 ...  8.75958521e-03\n",
      "  -1.71680525e-02 -1.67488903e-02]]\n"
     ]
    }
   ],
   "source": [
    "# Retrieve all of the vectors from a trained model as follows:\n",
    "# TODO\n",
    "X = model[model.wv.vocab]\n",
    "print(X)"
   ]
  },
  {
   "cell_type": "code",
   "execution_count": 104,
   "metadata": {},
   "outputs": [
    {
     "data": {
      "text/plain": [
       "[(u'guitar', 5078),\n",
       " (u'one', 4040),\n",
       " (u'like', 3766),\n",
       " (u'use', 3593),\n",
       " (u'great', 3389),\n",
       " (u'sound', 3374),\n",
       " (u'good', 3302),\n",
       " (u'strings', 3165),\n",
       " (u'well', 2696),\n",
       " (u'get', 2576)]"
      ]
     },
     "execution_count": 104,
     "metadata": {},
     "output_type": "execute_result"
    }
   ],
   "source": [
    "# print top 10 words based on term frequency (make sure they are not stop-words)\n",
    "# TODO\n",
    "\n",
    "freq.most_common(10)"
   ]
  },
  {
   "cell_type": "code",
   "execution_count": 112,
   "metadata": {},
   "outputs": [
    {
     "name": "stdout",
     "output_type": "stream",
     "text": [
      "[(u'electric', 0.9554224014282227), (u'acoustic', 0.95229572057724), (u'classical', 0.9422458410263062), (u'hollow-body', 0.9362406730651855), (u'player', 0.9274585247039795)]\n",
      "\n",
      "\n",
      "[(u'bag.I', 0.9673309326171875), (u'one.I', 0.9621098637580872), (u'stand.I', 0.9616100788116455), (u'first', 0.9613887071609497), (u'another', 0.9594484567642212)]\n",
      "\n",
      "\n",
      "[(u'terrific', 0.9445079565048218), (u'awesome', 0.9412147402763367), (u'amazing', 0.9401862025260925), (u'fantastic', 0.934888482093811), (u'cool', 0.9340112209320068)]\n",
      "\n",
      "\n",
      "[(u'put', 0.9571376442909241), (u'keep', 0.942513108253479), (u'gigs', 0.9423750638961792), (u'place', 0.9393409490585327), (u'stage', 0.9353340268135071)]\n",
      "\n",
      "\n",
      "[(u'good', 0.9476885199546814), (u'wonders', 0.9254891872406006), (u'fine', 0.9190893173217773), (u'awesome', 0.9162129163742065), (u'charm', 0.9141053557395935)]\n",
      "\n",
      "\n",
      "[(u'sounds', 0.9612590074539185), (u'tone', 0.9480122923851013), (u'sounding', 0.9272791743278503), (u'gritty', 0.9082261919975281), (u'feel', 0.9043073654174805)]\n",
      "\n",
      "\n",
      "[(u'unbeatable', 0.9525293111801147), (u'Great', 0.9522207975387573), (u'qualityI', 0.9512953162193298), (u'MS50G', 0.9511932134628296), (u'awesome', 0.9483118057250977)]\n",
      "\n",
      "\n",
      "[(u'picks', 0.9185476303100586), (u'playing', 0.8970882296562195), (u'tune', 0.8902096748352051), (u'guitarlele', 0.8897843360900879), (u'tuning', 0.8883258104324341)]\n",
      "\n",
      "\n",
      "[(u'fine', 0.9687703847885132), (u'flawlessly', 0.9406307935714722), (u'perfectly', 0.9401676654815674), (u'well.This', 0.9125716686248779), (u'charm', 0.9118574857711792)]\n",
      "\n",
      "\n",
      "[(u'You', 0.9489702582359314), (u'hear', 0.9484053254127502), (u'find', 0.9460277557373047), (u'wo', 0.9407230615615845), (u'Or', 0.9406846761703491)]\n",
      "\n",
      "\n"
     ]
    },
    {
     "name": "stderr",
     "output_type": "stream",
     "text": [
      "/usr/local/lib/python2.7/dist-packages/ipykernel_launcher.py:5: DeprecationWarning: Call to deprecated `most_similar` (Method will be removed in 4.0.0, use self.wv.most_similar() instead).\n",
      "  \"\"\"\n"
     ]
    }
   ],
   "source": [
    "# print most similar top 5 words for each of the above words\n",
    "# TODO\n",
    "top_ten=['guitar','one','like','use','great','sound','good','strings','well','get']\n",
    "for i in top_ten:\n",
    "    print(model.most_similar(positive=i,topn=5))\n",
    "    print ('\\n')"
   ]
  },
  {
   "cell_type": "code",
   "execution_count": 148,
   "metadata": {},
   "outputs": [
    {
     "name": "stdout",
     "output_type": "stream",
     "text": [
      "similarity between dogs and run is \n",
      "0.9752997946437195\n",
      "similarity between dogs and engineering is \n",
      "0.9663126931574223\n",
      "similarity between dogs and music is \n",
      "0.8835029317074751\n",
      "similarity between dogs and states is \n",
      "0.9608456564103068\n",
      "similarity between dogs and guitar is \n",
      "0.7489931941505424\n",
      "similarity between dogs and running is \n",
      "0.9884063556628747\n",
      "similarity between dogs and math is \n",
      "0.1593032678415771\n",
      "similarity between dogs and song is \n",
      "0.9743961560722639\n",
      "similarity between dogs and map is \n",
      "0.9815566198636134\n",
      "\n",
      "\n",
      "similarity between run and engineering is \n",
      "0.9584802051150003\n",
      "similarity between run and music is \n",
      "0.8700171974021835\n",
      "similarity between run and states is \n",
      "0.9424476003585714\n",
      "similarity between run and guitar is \n",
      "0.6760652104394455\n",
      "similarity between run and running is \n",
      "0.9732412049585105\n",
      "similarity between run and math is \n",
      "0.21920930902581176\n",
      "similarity between run and song is \n",
      "0.9473708645108365\n",
      "similarity between run and map is \n",
      "0.9565857775661402\n",
      "\n",
      "\n",
      "similarity between engineering and music is \n",
      "0.8955730733062138\n",
      "similarity between engineering and states is \n",
      "0.9605153055045497\n",
      "similarity between engineering and guitar is \n",
      "0.739622224475655\n",
      "similarity between engineering and running is \n",
      "0.9685676785227437\n",
      "similarity between engineering and math is \n",
      "0.1731670158775992\n",
      "similarity between engineering and song is \n",
      "0.9378536337372557\n",
      "similarity between engineering and map is \n",
      "0.9673691387000994\n",
      "\n",
      "\n",
      "similarity between music and states is \n",
      "0.8232064019144593\n",
      "similarity between music and guitar is \n",
      "0.8607807095607802\n",
      "similarity between music and running is \n",
      "0.8507731649072676\n",
      "similarity between music and math is \n",
      "0.30070300332983163\n",
      "similarity between music and song is \n",
      "0.8941423341298531\n",
      "similarity between music and map is \n",
      "0.8475207848691537\n",
      "\n",
      "\n",
      "similarity between states and guitar is \n",
      "0.7074280902315728\n",
      "similarity between states and running is \n",
      "0.9792868975255765\n",
      "similarity between states and math is \n",
      "-0.005549805597692114\n",
      "similarity between states and song is \n",
      "0.9233543343429522\n",
      "similarity between states and map is \n",
      "0.9820355047619115\n",
      "\n",
      "\n",
      "similarity between guitar and running is \n",
      "0.7252320459591903\n",
      "similarity between guitar and math is \n",
      "0.20393901854620022\n",
      "similarity between guitar and song is \n",
      "0.8193522930203455\n",
      "similarity between guitar and map is \n",
      "0.7140986514535991\n",
      "\n",
      "\n",
      "similarity between running and math is \n",
      "0.0723784130430304\n",
      "similarity between running and song is \n",
      "0.9607728834477777\n",
      "similarity between running and map is \n",
      "0.9890700270892825\n",
      "\n",
      "\n",
      "similarity between math and song is \n",
      "0.19624216699778554\n",
      "similarity between math and map is \n",
      "0.04562795350027209\n",
      "\n",
      "\n",
      "similarity between song and map is \n",
      "0.9488822862837938\n",
      "\n",
      "\n"
     ]
    },
    {
     "name": "stderr",
     "output_type": "stream",
     "text": [
      "/usr/local/lib/python2.7/dist-packages/ipykernel_launcher.py:8: DeprecationWarning: Call to deprecated `similarity` (Method will be removed in 4.0.0, use self.wv.similarity() instead).\n",
      "  \n"
     ]
    }
   ],
   "source": [
    "# randomly pick 10 words, and print their similarity (as described in your problem statement)\n",
    "random_words=['dogs','run','engineering','music','states','guitar','running','math','song','map']\n",
    "\n",
    "\"\"\"I made my own algorithm to compare all 10 words with each other\"\"\"\n",
    "while len(random_words)>1:\n",
    "    for i in range(1,len(random_words)):\n",
    "        print(\"similarity between \"+ random_words[0]+ \" and \" +random_words[i]+ \" is \")\n",
    "        print(model.similarity(random_words[0],random_words[i]))\n",
    "    print('\\n')\n",
    "    random_words.pop(0)\n"
   ]
  },
  {
   "cell_type": "code",
   "execution_count": null,
   "metadata": {},
   "outputs": [],
   "source": []
  }
 ],
 "metadata": {
  "kernelspec": {
   "display_name": "Python 2",
   "language": "python",
   "name": "python2"
  },
  "language_info": {
   "codemirror_mode": {
    "name": "ipython",
    "version": 2
   },
   "file_extension": ".py",
   "mimetype": "text/x-python",
   "name": "python",
   "nbconvert_exporter": "python",
   "pygments_lexer": "ipython2",
   "version": "2.7.12"
  }
 },
 "nbformat": 4,
 "nbformat_minor": 2
}
