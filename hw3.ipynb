{
 "cells": [
  {
   "cell_type": "markdown",
   "metadata": {},
   "source": [
    "## Homework 3\n",
    "*For any questions or concerns please email your instructor at `smanna@scu.edu`*\n",
    "### Due - 05/21/2018 - 11:59p - 100 points\n",
    "\n",
    "**Name:** `<Alma Niu>`\n",
    "\n",
    "**Email** `<aniu@scu.edu>`\n",
    "\n",
    "**Objectives:** \n",
    "* Make you conversant with `Multi-layer Perceptrons` (MLP)\n",
    "* Implement and understand multi-class classifier using MLP\n",
    "* Familiarity with `TensorFlow`\n",
    "\n",
    "**Submission Instructions:** \n",
    "* Please download `hw3.ipynb`, `train_nn.csv`, and `test_nn.csv` files and insert cells in the `hw3.ipynb` to complete your homework and submit the same file to Camino under `Homework` $\\rightarrow$ `hw3`.\n",
    "* Please make sure you type your `Name` and `Email` on top of your submission file in the placeholder above. \n",
    "\n",
    "**Honor Code:** You are expected to complete the homework on your own. Solutions might exist elsewhere, but you are not allowed to copy them. "
   ]
  },
  {
   "cell_type": "markdown",
   "metadata": {},
   "source": [
    "### Problem Statement\n",
    "You are given a dataset of different `Iris` flower species. The original [dataset](https://archive.ics.uci.edu/ml/datasets/iris) has detailed description of all the characteristics of the flowers. Please feel free to visit the original page to know more about the dataset. Your task is to develop a Neural Network based multi-class classifier using TensorFlow to categorize the flowers based on their species. \n",
    "\n",
    "**Guide**: Feel free to use `week6-MLP-binaryData-tf.ipynb` as a sample to kick-start your implentation. If you simply try to copy and paste the code into your homework, trust me, it won't work!!! \n",
    "\n",
    "Here are few things you can try:\n",
    "* *One hot encoding*: There are three `species` of iris flower in your dataset. This time, you have to classify your data into `three` different categories. For that you need to compute `one hot encoding`.\n",
    "* *Activation functions*: There are different activation functions used in Neural Network (NN). Your task is to research different activation functions such as SoftMax, ReLu, and Sigmoid, and learn which ones are suitable for which layers of your neural network. Based on that, design your NN architecture and check the performance by computing `accuracy`.\n",
    "* *Number of hidden layers*: Instead on using one hidden layer, you can try two and check out your results and check the performance by computing `accuracy`.\n",
    "* *Loss functions*: TensorFlow comes with different forms of `loss` functions. Your task is to review them and pick any two to report your findings.\n",
    "\n",
    "**Adaptation**: We have provided you with the original dataset splitting it into two, one for training and the other for testing. You can use `train_nn.csv` to train the parameters of your model and then use `test_nn.csv` to test your model.\n",
    "\n",
    "**Evaluation**: We have set aside another dataset similar to `test_nn.csv` which will not be disclosed to you. We will use that dataset to evaluate your algorithm. This is just to make sure that you do not have any hard-coded parameters in your code.\n",
    "\n",
    "**Note**: Please make sure you have proper comments and explanation/justification of the steps you have coded. Please feel to add extra cells to complete all the `TODO` stubs. You are allowed to create your own utility functions to support your code."
   ]
  },
  {
   "cell_type": "code",
   "execution_count": 35,
   "metadata": {},
   "outputs": [],
   "source": [
    "# importing the libraries\n",
    "import tensorflow as tf\n",
    "import pandas as pd\n",
    "import numpy as np\n",
    "import matplotlib.pyplot as plt\n",
    "# TODO - feel free to add more as you need!\n",
    "%matplotlib inline\n",
    "from sklearn.preprocessing import LabelEncoder\n",
    "from sklearn.preprocessing import OneHotEncoder"
   ]
  },
  {
   "cell_type": "code",
   "execution_count": 36,
   "metadata": {},
   "outputs": [
    {
     "name": "stdout",
     "output_type": "stream",
     "text": [
      "    sepal_length  sepal_width  petal_length  petal_width  species\n",
      "6            4.4          3.2           1.3          0.2      1.0\n",
      "34           6.7          3.0           5.2          2.3      0.0\n",
      "35           6.3          2.5           5.0          1.9      0.0\n",
      "8            5.1          3.8           1.9          0.4      1.0\n",
      "3            5.1          3.4           1.5          0.2      1.0\n",
      "18           6.1          3.0           4.6          1.4      2.0\n",
      "25           5.1          2.5           3.0          1.1      2.0\n",
      "29           6.7          3.1           5.6          2.4      0.0\n",
      "19           5.8          2.6           4.0          1.2      2.0\n",
      "1            4.9          3.1           1.5          0.1      1.0\n",
      "31           5.8          2.7           5.1          1.9      0.0\n",
      "13           5.0          3.3           1.4          0.2      1.0\n",
      "9            4.8          3.0           1.4          0.3      1.0\n",
      "2            4.4          3.0           1.3          0.2      1.0\n",
      "28           6.9          3.1           5.4          2.1      0.0\n",
      "24           6.2          2.9           4.3          1.3      2.0\n",
      "23           5.7          2.9           4.2          1.3      2.0\n",
      "22           5.7          3.0           4.2          1.2      2.0\n",
      "30           6.9          3.1           5.1          2.3      0.0\n",
      "27           6.0          3.0           4.8          1.8      0.0\n",
      "33           6.7          3.3           5.7          2.5      0.0\n",
      "11           4.6          3.2           1.4          0.2      1.0\n",
      "32           6.8          3.2           5.9          2.3      0.0\n",
      "10           5.1          3.8           1.6          0.2      1.0\n",
      "14           6.3          2.3           4.4          1.3      2.0\n",
      "12           5.3          3.7           1.5          0.2      1.0\n",
      "4            5.0          3.5           1.3          0.3      1.0\n",
      "26           5.7          2.8           4.1          1.3      2.0\n",
      "37           6.2          3.4           5.4          2.3      0.0\n",
      "16           5.5          2.5           4.0          1.3      2.0\n",
      "5            4.5          2.3           1.3          0.3      1.0\n",
      "36           6.5          3.0           5.2          2.0      0.0\n",
      "7            5.0          3.5           1.6          0.6      1.0\n",
      "17           5.5          2.6           4.4          1.2      2.0\n",
      "21           5.6          2.7           4.2          1.3      2.0\n",
      "38           5.9          3.0           5.1          1.8      0.0\n",
      "15           5.6          3.0           4.1          1.3      2.0\n",
      "20           5.0          2.3           3.3          1.0      2.0\n"
     ]
    }
   ],
   "source": [
    "'Loading the train Iris dataset'\n",
    "# Define headers since the dataset does not have any headers\n",
    "col_names = [\"sepal_length\", \"sepal_width\", \"petal_length\", \"petal_width\", \"species\"]\n",
    "# reading the training data into the data frame\n",
    "\n",
    "\"\"\"Note: I mapped species' name to numbers\"\"\"\n",
    "\n",
    "train_df = pd.read_csv('train_nn.csv', header=None, names=col_names)\n",
    "train_df['species']=train_df.species.map({'Iris-virginica':0.0,'Iris-setosa':1.0,'Iris-versicolor':2.0})\n",
    "\n",
    "# reading the test data into the data frame\n",
    "test_df = pd.read_csv('test_nn.csv', header=None, names=col_names)\n",
    "test_df['species']=test_df.species.map({'Iris-virginica':0.0,'Iris-setosa':1.0,'Iris-versicolor':2.0})\n",
    "\n",
    "print(test_df)\n"
   ]
  },
  {
   "cell_type": "code",
   "execution_count": 37,
   "metadata": {},
   "outputs": [
    {
     "name": "stdout",
     "output_type": "stream",
     "text": [
      "[[0. 1. 0.]\n",
      " [1. 0. 0.]\n",
      " [1. 0. 0.]\n",
      " [0. 1. 0.]\n",
      " [0. 1. 0.]\n",
      " [0. 0. 1.]\n",
      " [0. 0. 1.]\n",
      " [1. 0. 0.]\n",
      " [0. 0. 1.]\n",
      " [0. 1. 0.]\n",
      " [1. 0. 0.]\n",
      " [0. 1. 0.]\n",
      " [0. 1. 0.]\n",
      " [0. 1. 0.]\n",
      " [1. 0. 0.]\n",
      " [0. 0. 1.]\n",
      " [0. 0. 1.]\n",
      " [0. 0. 1.]\n",
      " [1. 0. 0.]\n",
      " [1. 0. 0.]\n",
      " [1. 0. 0.]\n",
      " [0. 1. 0.]\n",
      " [1. 0. 0.]\n",
      " [0. 1. 0.]\n",
      " [0. 0. 1.]\n",
      " [0. 1. 0.]\n",
      " [0. 1. 0.]\n",
      " [0. 0. 1.]\n",
      " [1. 0. 0.]\n",
      " [0. 0. 1.]\n",
      " [0. 1. 0.]\n",
      " [1. 0. 0.]\n",
      " [0. 1. 0.]\n",
      " [0. 0. 1.]\n",
      " [0. 0. 1.]\n",
      " [1. 0. 0.]\n",
      " [0. 0. 1.]\n",
      " [0. 0. 1.]]\n"
     ]
    }
   ],
   "source": [
    "'Perform One Hot Encoding for the classifier to work'\n",
    "# TODO\n",
    "Y_train=np.asarray(train_df.species).reshape(-1,1) #make it 2d array(reshape goes up dimension)\n",
    "\n",
    "#print(Y_train)\n",
    "encoder=OneHotEncoder(sparse=False)\n",
    "\n",
    "Y_train=encoder.fit_transform(Y_train) #onehot for training\n",
    "\n",
    "Y_test=np.asarray(test_df.species).reshape(-1,1)\n",
    "Y_test=encoder.fit_transform(Y_test)\n",
    "\n",
    "print(Y_test) #works!"
   ]
  },
  {
   "cell_type": "code",
   "execution_count": 39,
   "metadata": {},
   "outputs": [
    {
     "name": "stdout",
     "output_type": "stream",
     "text": [
      "[[4.4 3.2 1.3 0.2]\n",
      " [6.7 3.  5.2 2.3]\n",
      " [6.3 2.5 5.  1.9]\n",
      " [5.1 3.8 1.9 0.4]\n",
      " [5.1 3.4 1.5 0.2]\n",
      " [6.1 3.  4.6 1.4]\n",
      " [5.1 2.5 3.  1.1]\n",
      " [6.7 3.1 5.6 2.4]\n",
      " [5.8 2.6 4.  1.2]\n",
      " [4.9 3.1 1.5 0.1]\n",
      " [5.8 2.7 5.1 1.9]\n",
      " [5.  3.3 1.4 0.2]\n",
      " [4.8 3.  1.4 0.3]\n",
      " [4.4 3.  1.3 0.2]\n",
      " [6.9 3.1 5.4 2.1]\n",
      " [6.2 2.9 4.3 1.3]\n",
      " [5.7 2.9 4.2 1.3]\n",
      " [5.7 3.  4.2 1.2]\n",
      " [6.9 3.1 5.1 2.3]\n",
      " [6.  3.  4.8 1.8]\n",
      " [6.7 3.3 5.7 2.5]\n",
      " [4.6 3.2 1.4 0.2]\n",
      " [6.8 3.2 5.9 2.3]\n",
      " [5.1 3.8 1.6 0.2]\n",
      " [6.3 2.3 4.4 1.3]\n",
      " [5.3 3.7 1.5 0.2]\n",
      " [5.  3.5 1.3 0.3]\n",
      " [5.7 2.8 4.1 1.3]\n",
      " [6.2 3.4 5.4 2.3]\n",
      " [5.5 2.5 4.  1.3]\n",
      " [4.5 2.3 1.3 0.3]\n",
      " [6.5 3.  5.2 2. ]\n",
      " [5.  3.5 1.6 0.6]\n",
      " [5.5 2.6 4.4 1.2]\n",
      " [5.6 2.7 4.2 1.3]\n",
      " [5.9 3.  5.1 1.8]\n",
      " [5.6 3.  4.1 1.3]\n",
      " [5.  2.3 3.3 1. ]]\n"
     ]
    }
   ],
   "source": [
    "'Assigning features and output columns and converting them into numpy arrays'\n",
    "# this is upto you.\n",
    "# you can do it in your way\n",
    "# TODO (optional)\n",
    "\n",
    "X_train=train_df.loc[:,'sepal_length':'petal_width'].as_matrix()\n",
    "\n",
    "X_test=test_df.loc[:,'sepal_length':'petal_width'].as_matrix()\n",
    "print(X_test) #convert into numpy array\n",
    "#Y_train, 2d array will each array inside representing # from one hot encoding\n",
    "#Y_test, same as Y_train"
   ]
  },
  {
   "cell_type": "code",
   "execution_count": 40,
   "metadata": {},
   "outputs": [],
   "source": [
    "'''Function for Multilayer perceptron'''\n",
    "\n",
    "def MLP(input_x, weights, biases): # with one hidden layer\n",
    "    layer_1=tf.add(tf.matmul(input_x,weights['w_h']),bias['b_h1'])\n",
    "    layer_1=tf.nn.relu(layer_1)\n",
    "    out_layer=tf.add(tf.matmul(layer_1,weights['w_out']),bias['b_out'])\n",
    "    out_layer=tf.nn.softmax(out_layer) #use softmax for output later\n",
    "    return out_layer\n",
    "# TODO\n",
    "#    return out_layer"
   ]
  },
  {
   "cell_type": "code",
   "execution_count": 41,
   "metadata": {},
   "outputs": [
    {
     "name": "stdout",
     "output_type": "stream",
     "text": [
      "(112, 4)\n",
      "(38, 4)\n",
      "(112, 3)\n",
      "(38, 3)\n"
     ]
    }
   ],
   "source": [
    "# Printing the dimensions of your train, and test data\n",
    "# TODO\n",
    "print(X_train.shape)\n",
    "print(X_test.shape)\n",
    "print(Y_train.shape)\n",
    "print(Y_test.shape)"
   ]
  },
  {
   "cell_type": "code",
   "execution_count": 42,
   "metadata": {},
   "outputs": [],
   "source": [
    "'Define the parameters for your neural network such as input_neurons, etc'\n",
    "# TODO\n",
    "n_features=len(X_train[0]) #4 features\n",
    "input_num=len(X_train) #112 inputs for X's datapoints\n",
    "num_hidden_layers=1 # go with 1 hidden layer as my base case \n",
    "num_output=len(Y_test[0])# 3 different category output\n",
    "\n",
    "num_iter = 2000\n",
    "display_step = int(num_iter / 10)\n",
    "learning_rate = 0.009"
   ]
  },
  {
   "cell_type": "code",
   "execution_count": 115,
   "metadata": {},
   "outputs": [],
   "source": [
    "'Initialize placeholders for the nn'\n",
    "#TODO\n",
    "X=tf.placeholder(\"float\",[None,4])\n",
    "Y=tf.placeholder(\"float\",[None,3])\n",
    "'weights and biases'\n",
    "# TODO (You can do it in your way!)\n",
    "\n",
    "#I assigned random weights myself\n",
    "weights={\n",
    "    'w_h':tf.Variable(tf.random_normal([4, 1])), #4 features, 1 hidden \n",
    "    'w_out':tf.Variable(tf.random_normal([1, 3]))#number hidden, number output\n",
    "}\n",
    "\n",
    "bias={\n",
    "    'b_h1' : tf.Variable(tf.zeros([num_hidden_layers])),\n",
    "    'b_out': tf.Variable(tf.zeros([num_output]))\n",
    "}"
   ]
  },
  {
   "cell_type": "code",
   "execution_count": 144,
   "metadata": {},
   "outputs": [
    {
     "name": "stdout",
     "output_type": "stream",
     "text": [
      "loss= 0.21969\n",
      "loss= 0.15112\n",
      "loss= 0.14018\n",
      "loss= 0.13151\n",
      "loss= 0.12533\n",
      "loss= 0.12046\n",
      "loss= 0.11631\n",
      "loss= 0.11239\n",
      "loss= 0.10874\n",
      "loss= 0.10427\n"
     ]
    },
    {
     "data": {
      "text/plain": [
       "'Store the cost (or loss), so that you can use it to plot the graph'"
      ]
     },
     "execution_count": 144,
     "metadata": {},
     "output_type": "execute_result"
    }
   ],
   "source": [
    "'Defining the model'\n",
    "# calling the MLP function and storing it into an appropriate variable\n",
    "# TODO\n",
    "model=MLP(X, weights,bias)\n",
    "\n",
    "'Defining the cost function'\n",
    "# TODO\n",
    "cost=tf.reduce_mean(tf.nn.softmax_cross_entropy_with_logits_v2(logits=model,labels=Y))\n",
    "'Using gradient descent optimizer for opimization'\n",
    "# TODO\n",
    "# You need to use gradient descent for optimization\n",
    "# try with different learning rate, like 0.01, 0.002, 0.005 etc\n",
    "loss_func = tf.reduce_mean(tf.square(Y - model))\n",
    "optimizer = tf.train.GradientDescentOptimizer(0.0085).minimize(cost) #pass in cost as param\n",
    "\n",
    "\n",
    "'Creating a session'\n",
    "# TODO\n",
    "sess = tf.Session()\n",
    "init = tf.global_variables_initializer()\n",
    "sess.run(init)\n",
    "'Set the number of epochs'\n",
    "# TODO\n",
    "training_epochs=2000#start minimizing errors\n",
    "\n",
    "errors = []\n",
    "iter = []\n",
    "for k in range(training_epochs):\n",
    "    tmp_cost, _ = sess.run([loss_func, optimizer], feed_dict={X: X_train, Y: Y_train})\n",
    "    if k % display_step == 0:\n",
    "        #print('output: ', sess.run(model, feed_dict={X:X_train}))\n",
    "        errors.append(tmp_cost)\n",
    "        iter.append(k)\n",
    "        print('loss= ' + \"{:.5f}\".format(tmp_cost))\n",
    "\n",
    "# separates the input space\n",
    "\n",
    "'Initialize tensorflow variables'\n",
    "# TODO\n",
    "\n",
    "'Train your model...'\n",
    "'Store the cost (or loss), so that you can use it to plot the graph'\n",
    "# TODO\n"
   ]
  },
  {
   "cell_type": "code",
   "execution_count": 145,
   "metadata": {},
   "outputs": [
    {
     "data": {
      "image/png": "[encoded data removed]",
      "text/plain": [
       "<matplotlib.figure.Figure at 0x7fd964de3710>"
      ]
     },
     "metadata": {},
     "output_type": "display_data"
    }
   ],
   "source": [
    "'Plot loss'\n",
    "# TODO\n",
    "\n",
    "# A sample code is provided below. \n",
    "\n",
    "plt.plot(errors,iter)\n",
    "plt.xlabel(\"No. of iterations\")\n",
    "plt.ylabel(\"Loss\")\n",
    "plt.show()"
   ]
  },
  {
   "cell_type": "code",
   "execution_count": 146,
   "metadata": {},
   "outputs": [
    {
     "name": "stdout",
     "output_type": "stream",
     "text": [
      "(array([ 1.740764  , -0.22992867, -1.6974922 , -1.1819285 ], dtype=float32), array([-0.23790093,  1.9249266 ,  1.1626838 ], dtype=float32))\n",
      "\n",
      "\n",
      "(array(0.05837217, dtype=float32), array([ 0.7617917 , -0.94213563,  0.18034434], dtype=float32))\n"
     ]
    }
   ],
   "source": [
    "'Print weights'\n",
    "# TODO\n",
    "W = np.squeeze(sess.run(weights['w_h']))   # 2x2\n",
    "\n",
    "W2=np.squeeze(sess.run(weights['w_out']))\n",
    "print(W,W2)\n",
    "print('\\n')\n",
    "'Print biases'\n",
    "# TODO\n",
    "b = np.squeeze(sess.run(bias['b_h1']))    # 2,\n",
    "b2=np.squeeze(sess.run(bias['b_out']))\n",
    "print(b,b2)"
   ]
  },
  {
   "cell_type": "code",
   "execution_count": 147,
   "metadata": {},
   "outputs": [
    {
     "name": "stdout",
     "output_type": "stream",
     "text": [
      "(38, 3)\n"
     ]
    }
   ],
   "source": [
    "'Test the neural network'\n",
    "# Here you have to find out predicted output for every data from your test dataset\n",
    "# TODO\n",
    "\n",
    "#print y_test.shape\n",
    "X_test.shape #got it, need to reshape X_test in order to work\n",
    "print(Y_test.shape)\n",
    "\n",
    "y_pred = []\n",
    "for i in range(len(X_test)):\n",
    "    y_pred.append(np.rint(sess.run(model, feed_dict={X:[X_test[i]]})))\n",
    "    \n",
    "\n",
    "sess.close()\n"
   ]
  },
  {
   "cell_type": "code",
   "execution_count": 148,
   "metadata": {},
   "outputs": [
    {
     "name": "stdout",
     "output_type": "stream",
     "text": [
      "('Actual:', array([[0., 1., 0.],\n",
      "       [1., 0., 0.],\n",
      "       [1., 0., 0.],\n",
      "       [0., 1., 0.],\n",
      "       [0., 1., 0.],\n",
      "       [0., 0., 1.],\n",
      "       [0., 0., 1.],\n",
      "       [1., 0., 0.],\n",
      "       [0., 0., 1.],\n",
      "       [0., 1., 0.],\n",
      "       [1., 0., 0.],\n",
      "       [0., 1., 0.],\n",
      "       [0., 1., 0.],\n",
      "       [0., 1., 0.],\n",
      "       [1., 0., 0.],\n",
      "       [0., 0., 1.],\n",
      "       [0., 0., 1.],\n",
      "       [0., 0., 1.],\n",
      "       [1., 0., 0.],\n",
      "       [1., 0., 0.],\n",
      "       [1., 0., 0.],\n",
      "       [0., 1., 0.],\n",
      "       [1., 0., 0.],\n",
      "       [0., 1., 0.],\n",
      "       [0., 0., 1.],\n",
      "       [0., 1., 0.],\n",
      "       [0., 1., 0.],\n",
      "       [0., 0., 1.],\n",
      "       [1., 0., 0.],\n",
      "       [0., 0., 1.],\n",
      "       [0., 1., 0.],\n",
      "       [1., 0., 0.],\n",
      "       [0., 1., 0.],\n",
      "       [0., 0., 1.],\n",
      "       [0., 0., 1.],\n",
      "       [1., 0., 0.],\n",
      "       [0., 0., 1.],\n",
      "       [0., 0., 1.]]), 'Predicted:', [array([[0., 1., 0.]], dtype=float32), array([[1., 0., 0.]], dtype=float32), array([[1., 0., 0.]], dtype=float32), array([[0., 1., 0.]], dtype=float32), array([[0., 1., 0.]], dtype=float32), array([[0., 0., 0.]], dtype=float32), array([[0., 1., 0.]], dtype=float32), array([[1., 0., 0.]], dtype=float32), array([[0., 0., 0.]], dtype=float32), array([[0., 1., 0.]], dtype=float32), array([[1., 0., 0.]], dtype=float32), array([[0., 1., 0.]], dtype=float32), array([[0., 1., 0.]], dtype=float32), array([[0., 1., 0.]], dtype=float32), array([[1., 0., 0.]], dtype=float32), array([[0., 0., 0.]], dtype=float32), array([[0., 0., 0.]], dtype=float32), array([[0., 0., 0.]], dtype=float32), array([[1., 0., 0.]], dtype=float32), array([[1., 0., 0.]], dtype=float32), array([[1., 0., 0.]], dtype=float32), array([[0., 1., 0.]], dtype=float32), array([[1., 0., 0.]], dtype=float32), array([[0., 1., 0.]], dtype=float32), array([[0., 0., 0.]], dtype=float32), array([[0., 1., 0.]], dtype=float32), array([[0., 1., 0.]], dtype=float32), array([[0., 0., 0.]], dtype=float32), array([[1., 0., 0.]], dtype=float32), array([[0., 0., 0.]], dtype=float32), array([[0., 1., 0.]], dtype=float32), array([[1., 0., 0.]], dtype=float32), array([[0., 1., 0.]], dtype=float32), array([[1., 0., 0.]], dtype=float32), array([[0., 0., 0.]], dtype=float32), array([[1., 0., 0.]], dtype=float32), array([[0., 0., 0.]], dtype=float32), array([[0., 0., 0.]], dtype=float32)])\n"
     ]
    }
   ],
   "source": [
    "# You can print your actual y from test and predicted y using test\n",
    "# you might have to check the dimensions of each to make sure you can compare them later\n",
    "# TODO\n",
    "\n",
    "print('Actual:', Y_test, 'Predicted:', y_pred)"
   ]
  },
  {
   "cell_type": "code",
   "execution_count": 149,
   "metadata": {},
   "outputs": [
    {
     "data": {
      "text/plain": [
       "0.6578947368421053"
      ]
     },
     "execution_count": 149,
     "metadata": {},
     "output_type": "execute_result"
    }
   ],
   "source": [
    "'Compute accuracy'\n",
    "# You can use sci-kit learn's accuracy score to evaluate the performance of your model on test data\n",
    "# TODO\n",
    "from sklearn.metrics import accuracy_score\n",
    "y_pred=np.asarray(y_pred)\n",
    "y_pred.shape\n",
    "accuracy_score(Y_test, np.squeeze(y_pred))"
   ]
  },
  {
   "cell_type": "code",
   "execution_count": null,
   "metadata": {},
   "outputs": [],
   "source": []
  }
 ],
 "metadata": {
  "anaconda-cloud": {},
  "kernelspec": {
   "display_name": "Python 2",
   "language": "python",
   "name": "python2"
  },
  "language_info": {
   "codemirror_mode": {
    "name": "ipython",
    "version": 2
   },
   "file_extension": ".py",
   "mimetype": "text/x-python",
   "name": "python",
   "nbconvert_exporter": "python",
   "pygments_lexer": "ipython2",
   "version": "2.7.12"
  }
 },
 "nbformat": 4,
 "nbformat_minor": 1
}
