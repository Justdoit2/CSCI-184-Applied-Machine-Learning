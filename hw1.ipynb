{
 "cells": [
  {
   "cell_type": "markdown",
   "metadata": {},
   "source": [
    "## Homework 1\n",
    "*For any questions or concerns please email your instructor at `smanna@scu.edu`*\n",
    "### Due - 04/20/2018 - 11:59p - 100 points\n",
    "\n",
    "**Name:** `<Alma Niu>`\n",
    "\n",
    "**Email** `<aniu@scu.edu>`\n",
    "\n",
    "**Objectives:** The main aim of this homework is to get you started with the basics of machine learning concepts by integrating the review concepts discussed in week1 and week2.\n",
    "\n",
    "**Submission Instructions:** \n",
    "* Please download `hw1.ipynb` and `data.csv` files and insert cells in the `hw1.ipynb` to complete your homework and submit the same file to Camino under `Homework` $\\rightarrow$ `hw1`.\n",
    "* For Problem 2, question 2, you can compute the derivative on paper, scan and upload that in camino under `Homework` $\\rightarrow$ `hw1` (please make sure you have your name and email on top of the paper) or you can create a cell in the `hw1.ipynb` file to type it in latex.\n",
    "* Please make sure you type your `Name` and `Email` on top of your submission file in the placeholder above. \n",
    "\n",
    "**Honor Code:** You are expected to complete the homework on your own. Solutions might exist elsewhere, but you are not allowed to copy them. "
   ]
  },
  {
   "cell_type": "code",
   "execution_count": 2,
   "metadata": {},
   "outputs": [],
   "source": [
    "# importing libraries\n",
    "import numpy as np\n",
    "import pandas as pd\n",
    "import matplotlib.pyplot as plt\n",
    "%matplotlib inline"
   ]
  },
  {
   "cell_type": "markdown",
   "metadata": {},
   "source": [
    "#### Problem 1 (60 points):\n",
    "Suppose you are given some data points $(x_1, y_1), (x_2,y_2)...(x_n,y_n)$. The x-cordinate denotes the production level for a company, and y-denotes the average cost per unit of operations at a level of x-units per day. \n",
    "\n",
    "1. You are given a dataset `data.csv` which has `x` and its corresponding `y`. Import the dataset into pandas dataframe. Plot them using matplotlib to see how these variables are related. Please make sure that you have proper axes labels.\n",
    "1. Assume that the curve you have just plotted can be represented by the equation: $y=\\omega_0 + \\omega_1x + \\omega_2x^2$. \n",
    "1. Using the above data, print the following: \n",
    "    * Observation vector `Y`\n",
    "    * Design Matrix `X`\n",
    "    * Parameter Vector `W`\n",
    "    * Residual Vector `E`\n",
    "    <br>*At this point you do not have real values for `Parameter` or `Residual` vectors, hence write them using algebric notations like $w_1$ (etc) for Paramer and $\\epsilon_1$ (etc) for Residual*\n",
    "1. You have already learnt that residuals (or error) can be computed by $\\epsilon=target\\_output - predicted\\_output$.    As shown in `week2-MLIntuition.ipynb`, you have to intuititively generate weights to fit your data, so that you end up minimizing `Root mean squared error` after 50 iterations. For this, you \n",
    "   have to write a function that will create a table as shown (*NOTE: Don't panic if you do not see your `RMSE` minimizing after every iteration*):\n",
    "````    \n",
    "     Iteration # | RMSE\n",
    "     ----------- |-------\n",
    "        1        |   r_1 \n",
    "        2        |   r_2\n",
    "        ...      |   ...\n",
    "        50       |   r_50\n",
    "```` \n",
    "\n",
    "1. Also plot a curve, which will plot `No. of iterations` in the x-axis and `RMSE` in the y-axis for all 50 iterations.\n",
    "1. Finally using scikit learn's `Linear Regression`, compute more accurate values of the parameters and plot the curve which would fit the data similar to the example shown in class.\n"
   ]
  },
  {
   "cell_type": "code",
   "execution_count": 3,
   "metadata": {},
   "outputs": [
    {
     "data": {
      "text/html": [
       "<div>\n",
       "<style scoped>\n",
       "    .dataframe tbody tr th:only-of-type {\n",
       "        vertical-align: middle;\n",
       "    }\n",
       "\n",
       "    .dataframe tbody tr th {\n",
       "        vertical-align: top;\n",
       "    }\n",
       "\n",
       "    .dataframe thead th {\n",
       "        text-align: right;\n",
       "    }\n",
       "</style>\n",
       "<table border=\"1\" class=\"dataframe\">\n",
       "  <thead>\n",
       "    <tr style=\"text-align: right;\">\n",
       "      <th></th>\n",
       "      <th>x</th>\n",
       "      <th>y</th>\n",
       "    </tr>\n",
       "  </thead>\n",
       "  <tbody>\n",
       "    <tr>\n",
       "      <th>0</th>\n",
       "      <td>-1</td>\n",
       "      <td>0</td>\n",
       "    </tr>\n",
       "    <tr>\n",
       "      <th>1</th>\n",
       "      <td>0</td>\n",
       "      <td>8</td>\n",
       "    </tr>\n",
       "    <tr>\n",
       "      <th>2</th>\n",
       "      <td>0</td>\n",
       "      <td>-9</td>\n",
       "    </tr>\n",
       "    <tr>\n",
       "      <th>3</th>\n",
       "      <td>1</td>\n",
       "      <td>0</td>\n",
       "    </tr>\n",
       "    <tr>\n",
       "      <th>4</th>\n",
       "      <td>1</td>\n",
       "      <td>3</td>\n",
       "    </tr>\n",
       "  </tbody>\n",
       "</table>\n",
       "</div>"
      ],
      "text/plain": [
       "   x  y\n",
       "0 -1  0\n",
       "1  0  8\n",
       "2  0 -9\n",
       "3  1  0\n",
       "4  1  3"
      ]
     },
     "execution_count": 3,
     "metadata": {},
     "output_type": "execute_result"
    }
   ],
   "source": [
    "# TODO:\n",
    "# Please feel free to insert as many cells you want\n",
    "\"\"\" Part 1\"\"\"\n",
    "df = pd.read_csv('data.csv')\n",
    "df.head()"
   ]
  },
  {
   "cell_type": "code",
   "execution_count": 4,
   "metadata": {},
   "outputs": [
    {
     "data": {
      "image/png": "[encoded data removed]",
      "text/plain": [
       "<matplotlib.figure.Figure at 0x7fa041b77750>"
      ]
     },
     "metadata": {},
     "output_type": "display_data"
    },
    {
     "data": {
      "text/plain": [
       "'Part 2: Assumed'"
      ]
     },
     "execution_count": 4,
     "metadata": {},
     "output_type": "execute_result"
    }
   ],
   "source": [
    "plt.plot(df['x'], df['y'])\n",
    "plt.xlabel(\"x\")\n",
    "plt.ylabel(\"y\")\n",
    "plt.grid(True)\n",
    "plt.ylim(ymin=0)  # this line\n",
    "plt.show()\n",
    "\n",
    "\"\"\"Part 2: Assumed\"\"\""
   ]
  },
  {
   "cell_type": "code",
   "execution_count": 5,
   "metadata": {},
   "outputs": [
    {
     "name": "stdout",
     "output_type": "stream",
     "text": [
      "Observation Vector: \n",
      "\n",
      "[0, 8, -9, 0, 3, 23, 20, 24, 9, 58, 93, 83, 110, 133, 149, 190, 198, 247, 241, 301, 321, 356, 394, 452, 476]\n",
      "Design Matrix:\n",
      " \n",
      "[[ 1  1  1  1  1  1  1  1  1  1  1  1  1  1  1  1  1  1  1  1  1  1  1  1\n",
      "   1]\n",
      " [-1  0  0  1  1  2  3  3  4  5  5  6  7  7  8  9  9 10 11 11 12 13 13 14\n",
      "  15]]\n",
      "Parameter:\n",
      "\n",
      "['w0', 'w1', 'w2']\n",
      "Residual:\n",
      "\n",
      "['Ei', 'Ei', 'Ei', 'Ei', 'Ei', 'Ei', 'Ei', 'Ei', 'Ei', 'Ei', 'Ei', 'Ei', 'Ei', 'Ei', 'Ei', 'Ei', 'Ei', 'Ei', 'Ei', 'Ei', 'Ei', 'Ei', 'Ei', 'Ei', 'Ei']\n"
     ]
    }
   ],
   "source": [
    "\"\"\"\n",
    "Part 3\n",
    "\"\"\"\n",
    "Y=[i for i in df.y]\n",
    "print(\"Observation Vector: \\n\")\n",
    "print(Y ) #observation vector\n",
    "\n",
    "X=np.array([[1 for i in range(len(df))],[i for i in df.x]])\n",
    "print(\"Design Matrix:\\n \")\n",
    "print(X )\n",
    "\n",
    "print(\"Parameter:\\n\")\n",
    "W=[\"w0\",\"w1\",\"w2\"]\n",
    "print (W)\n",
    "\n",
    "print(\"Residual:\\n\")\n",
    "R=[\"Ei\"]*25\n",
    "print(R)\n",
    "\n"
   ]
  },
  {
   "cell_type": "code",
   "execution_count": 7,
   "metadata": {},
   "outputs": [
    {
     "name": "stdout",
     "output_type": "stream",
     "text": [
      "Iteration # | RMSE \n",
      "-------------------\n",
      "(1, ' | ', 2882.8059247892493)\n",
      "(2, ' | ', 2882.8059247892493)\n",
      "(3, ' | ', 2882.8059247892493)\n",
      "(4, ' | ', 2882.8059247892493)\n",
      "(5, ' | ', 2882.8059247892493)\n",
      "(6, ' | ', 2882.8059247892493)\n",
      "(7, ' | ', 2882.8059247892493)\n",
      "(8, ' | ', 2882.8059247892493)\n",
      "(9, ' | ', 2882.8059247892493)\n",
      "(10, ' | ', 2882.8059247892493)\n",
      "(11, ' | ', 2358.4809941994445)\n",
      "(12, ' | ', 2358.4809941994445)\n",
      "(13, ' | ', 2358.4809941994445)\n",
      "(14, ' | ', 2358.4809941994445)\n",
      "(15, ' | ', 2358.4809941994445)\n",
      "(16, ' | ', 2358.4809941994445)\n",
      "(17, ' | ', 2358.4809941994445)\n",
      "(18, ' | ', 2358.4809941994445)\n",
      "(19, ' | ', 2358.4809941994445)\n",
      "(20, ' | ', 2358.4809941994445)\n",
      "(21, ' | ', 1834.167167953892)\n",
      "(22, ' | ', 1834.167167953892)\n",
      "(23, ' | ', 1834.167167953892)\n",
      "(24, ' | ', 1834.167167953892)\n",
      "(25, ' | ', 1834.167167953892)\n",
      "(26, ' | ', 1834.167167953892)\n",
      "(27, ' | ', 1834.167167953892)\n",
      "(28, ' | ', 1834.167167953892)\n",
      "(29, ' | ', 1834.167167953892)\n",
      "(30, ' | ', 1834.167167953892)\n",
      "(31, ' | ', 789.2131524499576)\n",
      "(32, ' | ', 789.2131524499576)\n",
      "(33, ' | ', 789.2131524499576)\n",
      "(34, ' | ', 789.2131524499576)\n",
      "(35, ' | ', 789.2131524499576)\n",
      "(36, ' | ', 789.2131524499576)\n",
      "(37, ' | ', 789.2131524499576)\n",
      "(38, ' | ', 789.2131524499576)\n",
      "(39, ' | ', 789.2131524499576)\n",
      "(40, ' | ', 789.2131524499576)\n",
      "(41, ' | ', 474.7850882241354)\n",
      "(42, ' | ', 474.7850882241354)\n",
      "(43, ' | ', 474.7850882241354)\n",
      "(44, ' | ', 474.7850882241354)\n",
      "(45, ' | ', 474.7850882241354)\n",
      "(46, ' | ', 474.7850882241354)\n",
      "(47, ' | ', 474.7850882241354)\n",
      "(48, ' | ', 474.7850882241354)\n",
      "(49, ' | ', 474.7850882241354)\n",
      "(50, ' | ', 474.7850882241354)\n"
     ]
    },
    {
     "data": {
      "text/plain": [
       "'Through trial and error, my rootmse has been minimizing'"
      ]
     },
     "execution_count": 7,
     "metadata": {},
     "output_type": "execute_result"
    }
   ],
   "source": [
    "\"\"\"Part 4: adjust my w0,w1,w2 parameter to minimize RMSE\"\"\"\n",
    "\n",
    "\n",
    "\"\"\"Explanation: Instead of testing 50 seperate times to minimize my RMSE, I tested 5 times with iterations\"\"\"\n",
    "def RootMSE(actual, predicted):\n",
    "    return np.sqrt(np.square(predicted - actual).mean()['y'])\n",
    "\n",
    "w0=20\n",
    "w1=25\n",
    "w2=30\n",
    "predicted=w0+w1*df['x'].values +w2*(df['x'].values**2) #equation\n",
    "predicted_df = pd.DataFrame(zip(df['x'].values, predicted), columns=['x', 'y']) #zip through\n",
    "#equation and map through all x values for xw\n",
    "\n",
    "test_cases=[]\n",
    "\n",
    "print(\"Iteration # | RMSE \")\n",
    "print(\"-------------------\")\n",
    "for i in range(1,11):\n",
    "    print(i,\" | \" ,RootMSE(df,predicted_df))\n",
    "    test_cases.append(RootMSE(df,predicted_df))\n",
    "\n",
    "w0=15\n",
    "w1=20\n",
    "w2=25\n",
    "predicted=w0+w1*df['x'].values +w2*(df['x'].values**2 )#equation\n",
    "predicted_df = pd.DataFrame(zip(df['x'].values, predicted), columns=['x', 'y']) \n",
    "\n",
    "\n",
    "for i in range(11,21):\n",
    "    print(i,\" | \" ,RootMSE(df,predicted_df))\n",
    "    test_cases.append(RootMSE(df,predicted_df))\n",
    "\n",
    "w0=10\n",
    "w1=15\n",
    "w2=20\n",
    "predicted=w0+w1*df['x'].values +w2*(df['x'].values**2) #equation\n",
    "predicted_df = pd.DataFrame(zip(df['x'].values, predicted), columns=['x', 'y']) \n",
    "\n",
    "for i in range(21,31):\n",
    "    print(i,\" | \" ,RootMSE(df,predicted_df))\n",
    "    test_cases.append(RootMSE(df,predicted_df))\n",
    "    \n",
    "w0=5\n",
    "w1=5\n",
    "w2=10\n",
    "predicted=w0+w1*df['x'].values +w2*(df['x'].values**2) #equation\n",
    "predicted_df = pd.DataFrame(zip(df['x'].values, predicted), columns=['x', 'y']) \n",
    "\n",
    "for i in range(31,41):\n",
    "    print(i,\" | \" ,RootMSE(df,predicted_df))\n",
    "    test_cases.append(RootMSE(df,predicted_df))\n",
    "    \n",
    "w0=2\n",
    "w1=2\n",
    "w2=7\n",
    "predicted=w0+w1*df['x'].values +w2*(df['x'].values**2) #equation\n",
    "predicted_df = pd.DataFrame(zip(df['x'].values, predicted), columns=['x', 'y'])\n",
    "    \n",
    "for i in range(41,51):\n",
    "    print(i,\" | \" ,RootMSE(df,predicted_df))\n",
    "    test_cases.append(RootMSE(df,predicted_df))\n",
    "   \n",
    "\"\"\"Through trial and error, my rootmse has been minimizing\"\"\"\n",
    "\n",
    "\n",
    "#j=[i for i in np.random.random_integers(0,476,size=25)]   \n",
    "\n",
    " \n",
    "    "
   ]
  },
  {
   "cell_type": "code",
   "execution_count": 79,
   "metadata": {},
   "outputs": [
    {
     "data": {
      "image/png": "[encoded data removed]",
      "text/plain": [
       "<matplotlib.figure.Figure at 0x7ff470d34910>"
      ]
     },
     "metadata": {},
     "output_type": "display_data"
    },
    {
     "data": {
      "text/plain": [
       "'Note:My curve have steep ends because I did 10 iterations for each 5 test cases, so \\n                      not smooth compared to if I tested 50 times by hand\\n'"
      ]
     },
     "execution_count": 79,
     "metadata": {},
     "output_type": "execute_result"
    }
   ],
   "source": [
    "\"\"\"Part 5\"\"\"\n",
    "itera=[i for i in range(1,51)] #make array of iteractions from 1-50\n",
    "\n",
    "\n",
    "plt.plot(itera,test_cases,'g' )\n",
    "plt.xlabel(\"Iterations\")\n",
    "plt.ylabel(\"RMSE\")\n",
    "\n",
    "plt.show()\n",
    "\"\"\"Note:My curve have steep ends because I did 10 iterations for each 5 test cases, so \n",
    "                      not smooth compared to if I tested 50 times by hand\n",
    "\"\"\"\n",
    "\n",
    "\n",
    "\n",
    "\n",
    "\n",
    "\n"
   ]
  },
  {
   "cell_type": "code",
   "execution_count": 8,
   "metadata": {
    "scrolled": true
   },
   "outputs": [
    {
     "name": "stderr",
     "output_type": "stream",
     "text": [
      "/usr/local/lib/python2.7/dist-packages/sklearn/cross_validation.py:41: DeprecationWarning: This module was deprecated in version 0.18 in favor of the model_selection module into which all the refactored classes and functions are moved. Also note that the interface of the new CV iterators are different from that of this module. This module will be removed in 0.20.\n",
      "  \"This module will be removed in 0.20.\", DeprecationWarning)\n"
     ]
    },
    {
     "data": {
      "image/png": "[encoded data removed]",
      "text/plain": [
       "<matplotlib.figure.Figure at 0x7fa034d13c10>"
      ]
     },
     "metadata": {},
     "output_type": "display_data"
    }
   ],
   "source": [
    "\"\"\"Part 6\"\"\"\n",
    "from sklearn.linear_model import LinearRegression\n",
    "from sklearn.cross_validation import train_test_split\n",
    "lm=LinearRegression()\n",
    "\n",
    "#X_train,X_test,Y_train,Y_test=train_test_split(df.x,df.y,random_state=1)\n",
    "#X_train=X_train.to_frame()#to fit\n",
    "\n",
    "X=df.x.to_frame() #need to fit to frame or cannot fit the model\n",
    "lm.fit(X,Y)\n",
    "plt.scatter(X,Y,color='g')\n",
    "plt.plot(X,lm.predict(X),color='k')\n",
    "plt.show()\n"
   ]
  },
  {
   "cell_type": "markdown",
   "metadata": {},
   "source": [
    "#### Problem 2 (40 points):"
   ]
  },
  {
   "cell_type": "markdown",
   "metadata": {},
   "source": [
    "[Hyperbolic tangent](https://en.wikipedia.org/wiki/Hyperbolic_function) is represented by $\\tanh x$. \n",
    "\n",
    "1. Using the `sigmoid` curve example shown in class, generate 20 points and store it into `x` variable. Now, write a function `tanh` which will provide the correspoing y. Using these x and y, plot the curve.\n",
    "2. On paper, compute the derivative of `tanh x`."
   ]
  },
  {
   "cell_type": "code",
   "execution_count": 9,
   "metadata": {},
   "outputs": [
    {
     "name": "stdout",
     "output_type": "stream",
     "text": [
      "[-0.9999999958776927, -0.999999969540041, -0.9999997749296758, -0.9999983369439447, -0.9999877116507956, -0.9999092042625951, -0.999329299739067, -0.9950547536867305, -0.9640275800758169, -0.761594155955765, 0.0, 0.7615941559557649, 0.9640275800758168, 0.9950547536867306, 0.9993292997390671, 0.9999092042625951, 0.9999877116507956, 0.9999983369439446, 0.9999997749296758, 0.999999969540041]\n"
     ]
    }
   ],
   "source": [
    "# TODO\n",
    "# Please feel free to insert as many cells you want\n",
    "\"\"\"Part 2\"\"\"\n",
    "x=[i for i in range(-10,10)] #generate 20 points\n",
    "\n",
    "def tanh(s):\n",
    "    return ( 1-(np.e**(-2*s)) )/(1+ (np.e**(-2*s)) )\n",
    "y=[tanh(i) for i in x]\n",
    "\n",
    "print(y)"
   ]
  },
  {
   "cell_type": "code",
   "execution_count": 82,
   "metadata": {
    "scrolled": true
   },
   "outputs": [
    {
     "data": {
      "image/png": "[encoded data removed]",
      "text/plain": [
       "<matplotlib.figure.Figure at 0x7ff466201250>"
      ]
     },
     "metadata": {},
     "output_type": "display_data"
    }
   ],
   "source": [
    "plt.plot(x, y)\n",
    "plt.xlabel(\"X\")\n",
    "plt.ylabel(\"Y\")\n",
    "plt.grid(True)\n",
    "plt.ylim(ymin=-1)  # this line\n",
    "plt.show()"
   ]
  },
  {
   "cell_type": "code",
   "execution_count": null,
   "metadata": {},
   "outputs": [],
   "source": [
    "\"\"\" Compute the Derivative, Upload Picture\"\"\""
   ]
  },
  {
   "cell_type": "code",
   "execution_count": null,
   "metadata": {},
   "outputs": [],
   "source": []
  }
 ],
 "metadata": {
  "kernelspec": {
   "display_name": "Python 2",
   "language": "python",
   "name": "python2"
  },
  "language_info": {
   "codemirror_mode": {
    "name": "ipython",
    "version": 2
   },
   "file_extension": ".py",
   "mimetype": "text/x-python",
   "name": "python",
   "nbconvert_exporter": "python",
   "pygments_lexer": "ipython2",
   "version": "2.7.12"
  }
 },
 "nbformat": 4,
 "nbformat_minor": 2
}
